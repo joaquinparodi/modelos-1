{
  "cells": [
    {
      "cell_type": "code",
      "execution_count": 1,
      "metadata": {
        "colab": {
          "base_uri": "https://localhost:8080/"
        },
        "id": "v4IQzo1YYhum",
        "outputId": "2ebc4c0c-80bd-4ab2-bd10-1981b80ee2a2"
      },
      "outputs": [
        {
          "name": "stdout",
          "output_type": "stream",
          "text": [
            "Collecting cplex\n",
            "  Downloading cplex-22.1.0.0-cp39-cp39-macosx_10_6_x86_64.whl (39.6 MB)\n",
            "\u001b[K     |████████████████████████████████| 39.6 MB 44.3 MB/s eta 0:00:01    |█████████▎                      | 11.5 MB 4.0 MB/s eta 0:00:08     |█████████████▋                  | 16.8 MB 4.0 MB/s eta 0:00:06\n",
            "\u001b[?25hInstalling collected packages: cplex\n",
            "Successfully installed cplex-22.1.0.0\n",
            "Collecting docplex\n",
            "  Downloading docplex-2.23.222.tar.gz (610 kB)\n",
            "\u001b[K     |████████████████████████████████| 610 kB 3.7 MB/s eta 0:00:01\n",
            "\u001b[?25hRequirement already satisfied: six in /Users/joaparodi/opt/anaconda3/lib/python3.9/site-packages (from docplex) (1.15.0)\n",
            "Building wheels for collected packages: docplex\n",
            "  Building wheel for docplex (setup.py) ... \u001b[?25ldone\n",
            "\u001b[?25h  Created wheel for docplex: filename=docplex-2.23.222-py3-none-any.whl size=662847 sha256=bb841f26cb8fc3a066d0e86142b31d01fd9bffc9bc3262acf953a0cb540507b9\n",
            "  Stored in directory: /Users/joaparodi/Library/Caches/pip/wheels/5e/4c/27/b3b3229ab9a25a089d5c01551d7c2e7efa41462635066784a0\n",
            "Successfully built docplex\n",
            "Installing collected packages: docplex\n",
            "Successfully installed docplex-2.23.222\n"
          ]
        }
      ],
      "source": [
        "!pip install cplex\n",
        "!pip install docplex\n",
        "from docplex.mp.model import Model"
      ]
    },
    {
      "cell_type": "code",
      "execution_count": 2,
      "metadata": {
        "id": "ZQqzv17xAo_m"
      },
      "outputs": [],
      "source": [
        "# CLASES\n",
        "class Clothing:\n",
        "    def __init__(self, number):\n",
        "        self.number = number\n",
        "        self.incompatibles = {}\n",
        "        self.washing_time = 0\n",
        "\n",
        "    def add_incompatible(self, clothing_to_add: \"Clothing\"):\n",
        "        self.incompatibles[clothing_to_add.number] = clothing_to_add\n",
        "\n",
        "    def __str__(self):\n",
        "        return str(self.number)\n",
        "\n",
        "class Washing:\n",
        "    def __init__(self, clothing: Clothing):\n",
        "        self.clothings = [clothing]\n",
        "        self.washing_time = clothing.washing_time\n",
        "\n",
        "    def add_clothing(self, new_clothing: Clothing):\n",
        "        if any(new_clothing in x.incompatibles for x in self.clothings):\n",
        "            return False\n",
        "        self.clothings.append(new_clothing)\n",
        "        if new_clothing.washing_time > self.washing_time:\n",
        "            self.washing_time = new_clothing.washing_time\n",
        "        return True\n",
        "\n",
        "    def can_add_clothing(self, new_clothing: Clothing):\n",
        "        if any(new_clothing.number in clothing.incompatibles for clothing in self.clothings):\n",
        "            return False\n",
        "        return True\n",
        "\n",
        "    def __contains__(self, key):\n",
        "        return key in self.clothings\n",
        "\n",
        "clothings_amount = 0\n",
        "\n",
        "file = open(\"data.txt\", \"r+\")\n",
        "clothings_graph = {}\n",
        "for current_line in file:\n",
        "    if current_line[0] == 'p':\n",
        "        clothings_amount = int(current_line.split(' ')[2])\n",
        "        for i in range(clothings_amount):\n",
        "            clothings_graph[i + 1] = Clothing(i + 1)\n",
        "    elif current_line[0] == 'n':\n",
        "        clothings_graph[int(current_line.split(' ')[1])].washing_time = int(current_line.split(' ')[2])\n",
        "    elif current_line[0] == 'e':\n",
        "        clothings_graph[int(current_line.split(' ')[1])].add_incompatible(clothings_graph[int(current_line.split(' ')[2])])\n",
        "        clothings_graph[int(current_line.split(' ')[2])].add_incompatible(clothings_graph[int(current_line.split(' ')[1])])"
      ]
    },
    {
      "cell_type": "code",
      "execution_count": 3,
      "metadata": {
        "id": "0q6iE-myApBz"
      },
      "outputs": [],
      "source": [
        "T = {} # tiempo de cada lavado\n",
        "I = {} # incompatibilidades entre prendas\n",
        "\n",
        "for i in clothings_graph:\n",
        "  T[i] = clothings_graph[i].washing_time\n",
        "\n",
        "for i in clothings_graph:\n",
        "  for j in clothings_graph:\n",
        "    if i == j:\n",
        "      I[(i,j)] = 0\n",
        "    else:\n",
        "      I[(i,j)] = 1\n",
        "    \n",
        "for i in clothings_graph:\n",
        "  for j in clothings_graph[i].incompatibles:\n",
        "    I[(i,j)] = 0\n",
        "    I[(j,i)] = 0\n",
        "\n",
        "mdl = Model('modelo')\n",
        "# armo la matriz binaria\n",
        "x = mdl.binary_var_matrix(range(1, clothings_amount + 1), range(1, clothings_amount + 1), name='x')\n",
        "t = mdl.integer_var_dict(range(1, clothings_amount + 1), name='t')\n",
        "\n",
        "# para que cada prenda este en un solo lavado\n",
        "mdl.add_constraints((sum(x[(i,j)] for i in clothings_graph)) == 1 for j in clothings_graph)\n",
        "# para respetar incompatibilidades entre prendas\n",
        "for j in clothings_graph:\n",
        "  mdl.add_constraint(t[j] == mdl.max(x[(i in range(1, clothings_amount + 1),j)]*T[j]))\n",
        "\n",
        "for i in clothings_graph:\n",
        "  for j in clothings_graph:\n",
        "    mdl.add_constraint(x[(i,j)] <= I[(i,j)])\n",
        "\n",
        "obj = sum(t[i] for i in t)\n",
        "mdl.set_objective('min',obj)\n",
        "\n",
        "mdl.print_solution()\n"
      ]
    },
    {
      "cell_type": "code",
      "execution_count": 4,
      "metadata": {
        "colab": {
          "base_uri": "https://localhost:8080/",
          "height": 478
        },
        "id": "QDajEE2FApO4",
        "outputId": "762b4d92-6020-4cc2-d905-e7a05a5eae7d"
      },
      "outputs": [
        {
          "name": "stdout",
          "output_type": "stream",
          "text": [
            "CPLEX Error  1016: Community Edition. Problem size limits exceeded. Purchase at http://ibm.biz/error1016.\n"
          ]
        },
        {
          "ename": "DOcplexLimitsExceeded",
          "evalue": "**** Promotional version. Problem size limits (1000 vars, 1000 consts) exceeded, model has 19182 vars, 19320 consts, CPLEX code=1016",
          "output_type": "error",
          "traceback": [
            "\u001b[0;31m---------------------------------------------------------------------------\u001b[0m",
            "\u001b[0;31mCplexSolverError\u001b[0m                          Traceback (most recent call last)",
            "File \u001b[0;32m~/opt/anaconda3/lib/python3.9/site-packages/docplex/mp/cplex_engine.py:1979\u001b[0m, in \u001b[0;36mCplexEngine.solve\u001b[0;34m(self, mdl, parameters, **kwargs)\u001b[0m\n\u001b[1;32m   1978\u001b[0m \u001b[39melse\u001b[39;00m:\n\u001b[0;32m-> 1979\u001b[0m     cpx\u001b[39m.\u001b[39;49msolve()\n\u001b[1;32m   1981\u001b[0m cpx_status \u001b[39m=\u001b[39m cpx\u001b[39m.\u001b[39msolution\u001b[39m.\u001b[39mget_status()\n",
            "File \u001b[0;32m~/opt/anaconda3/lib/python3.9/site-packages/cplex/__init__.py:1304\u001b[0m, in \u001b[0;36mCplex.solve\u001b[0;34m(self, paramsets)\u001b[0m\n\u001b[1;32m   1303\u001b[0m \u001b[39melif\u001b[39;00m \u001b[39mself\u001b[39m\u001b[39m.\u001b[39m_is_MIP():\n\u001b[0;32m-> 1304\u001b[0m     _proc\u001b[39m.\u001b[39;49mmipopt(\u001b[39mself\u001b[39;49m\u001b[39m.\u001b[39;49m_env\u001b[39m.\u001b[39;49m_e, \u001b[39mself\u001b[39;49m\u001b[39m.\u001b[39;49m_lp)\n\u001b[1;32m   1305\u001b[0m \u001b[39melif\u001b[39;00m \u001b[39mself\u001b[39m\u001b[39m.\u001b[39mquadratic_constraints\u001b[39m.\u001b[39mget_num() \u001b[39m>\u001b[39m \u001b[39m0\u001b[39m:\n",
            "File \u001b[0;32m~/opt/anaconda3/lib/python3.9/site-packages/cplex/_internal/_procedural.py:708\u001b[0m, in \u001b[0;36mmipopt\u001b[0;34m(env, lp)\u001b[0m\n\u001b[1;32m    707\u001b[0m     status \u001b[39m=\u001b[39m CR\u001b[39m.\u001b[39mCPXXmipopt(env, lp)\n\u001b[0;32m--> 708\u001b[0m check_status(env, status)\n",
            "File \u001b[0;32m~/opt/anaconda3/lib/python3.9/site-packages/cplex/_internal/_procedural.py:249\u001b[0m, in \u001b[0;36mStatusChecker.__call__\u001b[0;34m(self, env, status, from_cb)\u001b[0m\n\u001b[1;32m    248\u001b[0m         error_string \u001b[39m=\u001b[39m geterrorstring(env, status)\n\u001b[0;32m--> 249\u001b[0m \u001b[39mraise\u001b[39;00m CplexSolverError(error_string, env, status)\n",
            "\u001b[0;31mCplexSolverError\u001b[0m: CPLEX Error  1016: Community Edition. Problem size limits exceeded. Purchase at http://ibm.biz/error1016.",
            "\nDuring handling of the above exception, another exception occurred:\n",
            "\u001b[0;31mDOcplexLimitsExceeded\u001b[0m                     Traceback (most recent call last)",
            "\u001b[1;32m/Users/joaparodi/Desktop/cosas/modelos-1/CPLEX.ipynb Cell 4\u001b[0m in \u001b[0;36m<cell line: 1>\u001b[0;34m()\u001b[0m\n\u001b[0;32m----> <a href='vscode-notebook-cell:/Users/joaparodi/Desktop/cosas/modelos-1/CPLEX.ipynb#W3sZmlsZQ%3D%3D?line=0'>1</a>\u001b[0m solucion \u001b[39m=\u001b[39m mdl\u001b[39m.\u001b[39;49msolve(log_output\u001b[39m=\u001b[39;49m\u001b[39mTrue\u001b[39;49;00m)\n",
            "File \u001b[0;32m~/opt/anaconda3/lib/python3.9/site-packages/docplex/mp/model.py:4826\u001b[0m, in \u001b[0;36mModel.solve\u001b[0;34m(self, **kwargs)\u001b[0m\n\u001b[1;32m   4823\u001b[0m \u001b[39mif\u001b[39;00m \u001b[39mself\u001b[39m\u001b[39m.\u001b[39menvironment\u001b[39m.\u001b[39mhas_cplex:\n\u001b[1;32m   4824\u001b[0m     \u001b[39m# take arg clean flag or this model's\u001b[39;00m\n\u001b[1;32m   4825\u001b[0m     used_clean_before_solve \u001b[39m=\u001b[39m kwargs\u001b[39m.\u001b[39mget(\u001b[39m'\u001b[39m\u001b[39mclean_before_solve\u001b[39m\u001b[39m'\u001b[39m, \u001b[39mself\u001b[39m\u001b[39m.\u001b[39mclean_before_solve)\n\u001b[0;32m-> 4826\u001b[0m     \u001b[39mreturn\u001b[39;00m \u001b[39mself\u001b[39;49m\u001b[39m.\u001b[39;49m_solve_local(context, used_clean_before_solve, parameter_sets)\u001b[39m# lex_timelimits, lex_mipgaps)\u001b[39;00m\n\u001b[1;32m   4827\u001b[0m \u001b[39melse\u001b[39;00m:\n\u001b[1;32m   4828\u001b[0m     \u001b[39mreturn\u001b[39;00m \u001b[39mself\u001b[39m\u001b[39m.\u001b[39mfatal(\u001b[39m\"\u001b[39m\u001b[39mCannot solve model: no CPLEX runtime found.\u001b[39m\u001b[39m\"\u001b[39m)\n",
            "File \u001b[0;32m~/opt/anaconda3/lib/python3.9/site-packages/docplex/mp/model.py:4874\u001b[0m, in \u001b[0;36mModel._solve_local\u001b[0;34m(self, context, clean_before_solve, parameter_sets)\u001b[0m\n\u001b[1;32m   4872\u001b[0m \u001b[39mexcept\u001b[39;00m DOcplexException \u001b[39mas\u001b[39;00m docpx_e:  \u001b[39m# pragma: no cover\u001b[39;00m\n\u001b[1;32m   4873\u001b[0m     new_solution \u001b[39m=\u001b[39m \u001b[39mNone\u001b[39;00m\n\u001b[0;32m-> 4874\u001b[0m     \u001b[39mraise\u001b[39;00m docpx_e\n\u001b[1;32m   4876\u001b[0m \u001b[39mexcept\u001b[39;00m \u001b[39mException\u001b[39;00m \u001b[39mas\u001b[39;00m e:\n\u001b[1;32m   4877\u001b[0m     new_solution \u001b[39m=\u001b[39m \u001b[39mNone\u001b[39;00m\n",
            "File \u001b[0;32m~/opt/anaconda3/lib/python3.9/site-packages/docplex/mp/model.py:4863\u001b[0m, in \u001b[0;36mModel._solve_local\u001b[0;34m(self, context, clean_before_solve, parameter_sets)\u001b[0m\n\u001b[1;32m   4860\u001b[0m \u001b[39m# assert used_parameters is not None\u001b[39;00m\n\u001b[1;32m   4861\u001b[0m \u001b[39mself\u001b[39m\u001b[39m.\u001b[39m_apply_parameters_to_engine(used_parameters)\n\u001b[0;32m-> 4863\u001b[0m new_solution \u001b[39m=\u001b[39m self_engine\u001b[39m.\u001b[39;49msolve(\u001b[39mself\u001b[39;49m,\n\u001b[1;32m   4864\u001b[0m                                  parameters\u001b[39m=\u001b[39;49mused_parameters,\n\u001b[1;32m   4865\u001b[0m                                  clean_before_solve\u001b[39m=\u001b[39;49mclean_before_solve,\n\u001b[1;32m   4866\u001b[0m                                  parameter_sets \u001b[39m=\u001b[39;49m parameter_sets)\n\u001b[1;32m   4868\u001b[0m \u001b[39m# store solve status as returned by the engine.\u001b[39;00m\n\u001b[1;32m   4869\u001b[0m engine_status \u001b[39m=\u001b[39m self_engine\u001b[39m.\u001b[39mget_solve_status()\n",
            "File \u001b[0;32m~/opt/anaconda3/lib/python3.9/site-packages/docplex/mp/cplex_engine.py:2015\u001b[0m, in \u001b[0;36mCplexEngine.solve\u001b[0;34m(self, mdl, parameters, **kwargs)\u001b[0m\n\u001b[1;32m   2013\u001b[0m     cpx_status \u001b[39m=\u001b[39m \u001b[39m1016\u001b[39m\n\u001b[1;32m   2014\u001b[0m     cpx_status_string \u001b[39m=\u001b[39m \u001b[39m\"\u001b[39m\u001b[39mPromotional version. Problem size limits exceeded., CPLEX code=1016.\u001b[39m\u001b[39m\"\u001b[39m\n\u001b[0;32m-> 2015\u001b[0m     \u001b[39mself\u001b[39;49m\u001b[39m.\u001b[39;49m_model\u001b[39m.\u001b[39;49mfatal_ce_limits()\n\u001b[1;32m   2017\u001b[0m \u001b[39melif\u001b[39;00m \u001b[39mself\u001b[39m\u001b[39m.\u001b[39mfix_multiobj_error_1300 \u001b[39mand\u001b[39;00m \u001b[39m1300\u001b[39m \u001b[39m==\u001b[39m cpx_code:\n\u001b[1;32m   2018\u001b[0m     \u001b[39m# multiobjective error but there IS a solution (?)\u001b[39;00m\n\u001b[1;32m   2019\u001b[0m     cpx_status \u001b[39m=\u001b[39m \u001b[39m1300\u001b[39m\n",
            "File \u001b[0;32m~/opt/anaconda3/lib/python3.9/site-packages/docplex/mp/model.py:1084\u001b[0m, in \u001b[0;36mModel.fatal_ce_limits\u001b[0;34m(self, *args)\u001b[0m\n\u001b[1;32m   1081\u001b[0m nb_vars \u001b[39m=\u001b[39m \u001b[39mself\u001b[39m\u001b[39m.\u001b[39mnumber_of_variables\n\u001b[1;32m   1082\u001b[0m nb_constraints \u001b[39m=\u001b[39m \u001b[39mself\u001b[39m\u001b[39m.\u001b[39mnumber_of_constraints\n\u001b[0;32m-> 1084\u001b[0m \u001b[39mself\u001b[39;49m\u001b[39m.\u001b[39;49m_error_handler\u001b[39m.\u001b[39;49mfatal_limits_exceeded(nb_vars, nb_constraints)\n",
            "File \u001b[0;32m~/opt/anaconda3/lib/python3.9/site-packages/docplex/mp/error_handler.py:214\u001b[0m, in \u001b[0;36mAbstractErrorHandler.fatal_limits_exceeded\u001b[0;34m(self, nb_vars, nb_constraints)\u001b[0m\n\u001b[1;32m    212\u001b[0m \u001b[39mdef\u001b[39;00m \u001b[39mfatal_limits_exceeded\u001b[39m(\u001b[39mself\u001b[39m, nb_vars, nb_constraints):\n\u001b[1;32m    213\u001b[0m     docplex_error_stop_here()\n\u001b[0;32m--> 214\u001b[0m     \u001b[39mraise\u001b[39;00m DOcplexLimitsExceeded(nb_vars, nb_constraints)\n",
            "\u001b[0;31mDOcplexLimitsExceeded\u001b[0m: **** Promotional version. Problem size limits (1000 vars, 1000 consts) exceeded, model has 19182 vars, 19320 consts, CPLEX code=1016"
          ]
        }
      ],
      "source": [
        "solucion = mdl.solve(log_output=True)"
      ]
    }
  ],
  "metadata": {
    "colab": {
      "provenance": []
    },
    "kernelspec": {
      "display_name": "Python 3.9.12 ('base')",
      "language": "python",
      "name": "python3"
    },
    "language_info": {
      "codemirror_mode": {
        "name": "ipython",
        "version": 3
      },
      "file_extension": ".py",
      "mimetype": "text/x-python",
      "name": "python",
      "nbconvert_exporter": "python",
      "pygments_lexer": "ipython3",
      "version": "3.9.12"
    },
    "vscode": {
      "interpreter": {
        "hash": "3d06f7a423fdee2f9cedf6b75d8a704f49e43bfdf10626aac0b4dd76a5cddbe3"
      }
    }
  },
  "nbformat": 4,
  "nbformat_minor": 0
}
